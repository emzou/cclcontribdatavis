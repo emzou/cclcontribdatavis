{
 "cells": [
  {
   "cell_type": "code",
   "execution_count": 1,
   "metadata": {},
   "outputs": [],
   "source": [
    "import pandas as pd"
   ]
  },
  {
   "cell_type": "code",
   "execution_count": 2,
   "metadata": {},
   "outputs": [],
   "source": [
    "df = pd.read_json ('/Users/emilyzou/ccl/contribs-v2.json')\n",
    "df\n",
    "df.to_csv (\"full.csv\")"
   ]
  },
  {
   "cell_type": "code",
   "execution_count": 4,
   "metadata": {},
   "outputs": [],
   "source": [
    "df['organization'].value_counts().to_csv('testt.csv')"
   ]
  },
  {
   "cell_type": "code",
   "execution_count": 3,
   "metadata": {},
   "outputs": [],
   "source": [
    "dict = pd.read_csv (\"/Users/emilyzou/ccl/cclcoords.csv\")"
   ]
  },
  {
   "cell_type": "code",
   "execution_count": 4,
   "metadata": {},
   "outputs": [],
   "source": [
    "dict = dict.rename (columns = {\"ORGANIZATION\": \"organization\"})"
   ]
  },
  {
   "cell_type": "code",
   "execution_count": 20,
   "metadata": {},
   "outputs": [],
   "source": [
    "dg = dict.set_index (\"organization\")"
   ]
  },
  {
   "cell_type": "code",
   "execution_count": 23,
   "metadata": {},
   "outputs": [],
   "source": [
    "array = dg.to_numpy()"
   ]
  },
  {
   "cell_type": "code",
   "execution_count": 25,
   "metadata": {},
   "outputs": [],
   "source": [
    "array2 = dict.to_numpy ()"
   ]
  },
  {
   "cell_type": "code",
   "execution_count": 26,
   "metadata": {},
   "outputs": [
    {
     "data": {
      "text/plain": [
       "array([['\"Petre Andrei\" University', 47.1602, 27.6032],\n",
       "       ['√âcole Polytechnique de Montr√©al', 45.5048, -73.6132],\n",
       "       ['Academy of Mathematics and Systems Science, Chinese Academy Science, China',\n",
       "        39.9106, -116.3356],\n",
       "       ...,\n",
       "       ['Yonsei Univ., Korea Rep.', 37.5658, 126.9386],\n",
       "       ['Yorktown High School', 38.9029, -77.1405],\n",
       "       ['Zhejiang Univ', 30.3087, 120.0865]], dtype=object)"
      ]
     },
     "execution_count": 26,
     "metadata": {},
     "output_type": "execute_result"
    }
   ],
   "source": [
    "array2"
   ]
  },
  {
   "cell_type": "code",
   "execution_count": 9,
   "metadata": {},
   "outputs": [],
   "source": [
    "result = df[df['organization'].isin (dict['organization'])]"
   ]
  },
  {
   "cell_type": "code",
   "execution_count": 10,
   "metadata": {},
   "outputs": [
    {
     "data": {
      "text/html": [
       "<div>\n",
       "<style scoped>\n",
       "    .dataframe tbody tr th:only-of-type {\n",
       "        vertical-align: middle;\n",
       "    }\n",
       "\n",
       "    .dataframe tbody tr th {\n",
       "        vertical-align: top;\n",
       "    }\n",
       "\n",
       "    .dataframe thead th {\n",
       "        text-align: right;\n",
       "    }\n",
       "</style>\n",
       "<table border=\"1\" class=\"dataframe\">\n",
       "  <thead>\n",
       "    <tr style=\"text-align: right;\">\n",
       "      <th></th>\n",
       "      <th>modelName</th>\n",
       "      <th>contributor</th>\n",
       "      <th>organization</th>\n",
       "      <th>date</th>\n",
       "    </tr>\n",
       "  </thead>\n",
       "  <tbody>\n",
       "    <tr>\n",
       "      <th>0</th>\n",
       "      <td>client interface example</td>\n",
       "      <td>Seth Tisue</td>\n",
       "      <td>CCL</td>\n",
       "      <td>2002-06-20</td>\n",
       "    </tr>\n",
       "    <tr>\n",
       "      <th>1</th>\n",
       "      <td>AntsOpt</td>\n",
       "      <td>Erich Neuwirth</td>\n",
       "      <td>University of Vienna</td>\n",
       "      <td>2002-06-25</td>\n",
       "    </tr>\n",
       "    <tr>\n",
       "      <th>3</th>\n",
       "      <td>1D-CA-Rule90</td>\n",
       "      <td>Uri Wilensky</td>\n",
       "      <td>CCL</td>\n",
       "      <td>2002-07-03</td>\n",
       "    </tr>\n",
       "    <tr>\n",
       "      <th>5</th>\n",
       "      <td>Diffusion Graphics</td>\n",
       "      <td>ERIC B</td>\n",
       "      <td>CCL</td>\n",
       "      <td>2002-07-03</td>\n",
       "    </tr>\n",
       "    <tr>\n",
       "      <th>7</th>\n",
       "      <td>Cash Flow</td>\n",
       "      <td>Matthew W. Berland</td>\n",
       "      <td>CCL</td>\n",
       "      <td>2002-07-10</td>\n",
       "    </tr>\n",
       "    <tr>\n",
       "      <th>...</th>\n",
       "      <td>...</td>\n",
       "      <td>...</td>\n",
       "      <td>...</td>\n",
       "      <td>...</td>\n",
       "    </tr>\n",
       "    <tr>\n",
       "      <th>1217</th>\n",
       "      <td>Hypercycle</td>\n",
       "      <td>Maarten Boerlijst</td>\n",
       "      <td>Amsterdam University College</td>\n",
       "      <td>2022-09-27</td>\n",
       "    </tr>\n",
       "    <tr>\n",
       "      <th>1218</th>\n",
       "      <td>Hypercycle</td>\n",
       "      <td>Maarten Boerlijst</td>\n",
       "      <td>Amsterdam University College</td>\n",
       "      <td>2022-09-27</td>\n",
       "    </tr>\n",
       "    <tr>\n",
       "      <th>1219</th>\n",
       "      <td>Cyclic Competition</td>\n",
       "      <td>Maarten Boerlijst</td>\n",
       "      <td>Amsterdam University College</td>\n",
       "      <td>2022-09-27</td>\n",
       "    </tr>\n",
       "    <tr>\n",
       "      <th>1220</th>\n",
       "      <td>Hardy-Weinberg Network</td>\n",
       "      <td>Riccardo Tarantino, Valentino Romano</td>\n",
       "      <td>University of Palermo</td>\n",
       "      <td>2022-09-30</td>\n",
       "    </tr>\n",
       "    <tr>\n",
       "      <th>1221</th>\n",
       "      <td>Axelrod-Basic</td>\n",
       "      <td>Daniel Weissglass</td>\n",
       "      <td>Duke Kunshan University</td>\n",
       "      <td>2022-11-01</td>\n",
       "    </tr>\n",
       "  </tbody>\n",
       "</table>\n",
       "<p>657 rows × 4 columns</p>\n",
       "</div>"
      ],
      "text/plain": [
       "                     modelName                           contributor  \\\n",
       "0     client interface example                            Seth Tisue   \n",
       "1                      AntsOpt                        Erich Neuwirth   \n",
       "3                 1D-CA-Rule90                          Uri Wilensky   \n",
       "5           Diffusion Graphics                                ERIC B   \n",
       "7                    Cash Flow                    Matthew W. Berland   \n",
       "...                        ...                                   ...   \n",
       "1217                Hypercycle                     Maarten Boerlijst   \n",
       "1218                Hypercycle                     Maarten Boerlijst   \n",
       "1219        Cyclic Competition                     Maarten Boerlijst   \n",
       "1220    Hardy-Weinberg Network  Riccardo Tarantino, Valentino Romano   \n",
       "1221             Axelrod-Basic                     Daniel Weissglass   \n",
       "\n",
       "                      organization       date  \n",
       "0                              CCL 2002-06-20  \n",
       "1             University of Vienna 2002-06-25  \n",
       "3                              CCL 2002-07-03  \n",
       "5                              CCL 2002-07-03  \n",
       "7                              CCL 2002-07-10  \n",
       "...                            ...        ...  \n",
       "1217  Amsterdam University College 2022-09-27  \n",
       "1218  Amsterdam University College 2022-09-27  \n",
       "1219  Amsterdam University College 2022-09-27  \n",
       "1220         University of Palermo 2022-09-30  \n",
       "1221       Duke Kunshan University 2022-11-01  \n",
       "\n",
       "[657 rows x 4 columns]"
      ]
     },
     "execution_count": 10,
     "metadata": {},
     "output_type": "execute_result"
    }
   ],
   "source": [
    "result "
   ]
  },
  {
   "cell_type": "code",
   "execution_count": 14,
   "metadata": {},
   "outputs": [],
   "source": [
    "result.merge (dict, left_on = \"organization\", right_on = \"organization\", how = 'left').to_csv('locfull.csv')"
   ]
  }
 ],
 "metadata": {
  "interpreter": {
   "hash": "dda3671ff3204f7c08d6fd700d73245b2febe83cbc27407a5dbd57f565cde480"
  },
  "kernelspec": {
   "display_name": "Python 3.9.12 ('base')",
   "language": "python",
   "name": "python3"
  },
  "language_info": {
   "codemirror_mode": {
    "name": "ipython",
    "version": 3
   },
   "file_extension": ".py",
   "mimetype": "text/x-python",
   "name": "python",
   "nbconvert_exporter": "python",
   "pygments_lexer": "ipython3",
   "version": "3.9.12"
  },
  "orig_nbformat": 4
 },
 "nbformat": 4,
 "nbformat_minor": 2
}
